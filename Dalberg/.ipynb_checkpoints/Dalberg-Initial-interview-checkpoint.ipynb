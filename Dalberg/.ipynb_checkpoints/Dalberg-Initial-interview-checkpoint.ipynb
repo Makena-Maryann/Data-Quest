{
 "cells": [
  {
   "cell_type": "markdown",
   "id": "83e56c01-34aa-4fc8-a86a-63afb8ebab26",
   "metadata": {},
   "source": [
    "## Enhancing Healthcare Accessibility in Nairobi, Kenya"
   ]
  },
  {
   "cell_type": "code",
   "execution_count": null,
   "id": "be0eee7b-d1d0-4edd-8c01-086051ce38a3",
   "metadata": {},
   "outputs": [],
   "source": [
    "import numpy as np\n",
    "import pandas as pd\n",
    "import seaborn as sns\n",
    "import matplotlib.pyplot as plt"
   ]
  },
  {
   "cell_type": "code",
   "execution_count": null,
   "id": "9d578e36-f281-49b2-8fa5-04f047e5cd67",
   "metadata": {},
   "outputs": [],
   "source": [
    "# Import the dataset\n",
    "DF = pd.read_csv(\"health-facilities-in-kenya.csv\")"
   ]
  },
  {
   "cell_type": "code",
   "execution_count": null,
   "id": "c637a637-8ede-4f7a-bdc6-bcbecfd84d55",
   "metadata": {},
   "outputs": [],
   "source": [
    "df = DF.copy()\n",
    "df"
   ]
  },
  {
   "cell_type": "markdown",
   "id": "86e66960-b06a-4961-9d5c-e258bd2964fb",
   "metadata": {},
   "source": [
    "We have 10505 rows in the dataset and 50 columns."
   ]
  },
  {
   "cell_type": "code",
   "execution_count": null,
   "id": "0ddcfc3a-6f5b-4917-8819-f2dce4116611",
   "metadata": {},
   "outputs": [],
   "source": [
    "# Subset the data to only include Nairobi county\n",
    "nairobi_df = "
   ]
  },
  {
   "cell_type": "markdown",
   "id": "f4e58baf-ac70-4a01-9abd-f1a810b90f62",
   "metadata": {},
   "source": [
    "# **Problem Statement:**"
   ]
  },
  {
   "cell_type": "markdown",
   "id": "a037b27c-e995-41cf-9686-1972d312823c",
   "metadata": {},
   "source": [
    "# **Feature Description**"
   ]
  },
  {
   "cell_type": "markdown",
   "id": "f1fd6cc5-19ad-4a23-b0ea-d7c4869cc882",
   "metadata": {},
   "source": [
    "# **Data Cleaning**"
   ]
  },
  {
   "cell_type": "code",
   "execution_count": null,
   "id": "938044c8-84f8-43bf-8a5b-91cf33cea219",
   "metadata": {},
   "outputs": [],
   "source": [
    "# Get info on our data\n",
    "df.info()"
   ]
  },
  {
   "cell_type": "markdown",
   "id": "860fca9b-4a3e-4b4e-84c2-a6c960920aab",
   "metadata": {},
   "source": [
    "Some columns seem to have a significant number of null values."
   ]
  },
  {
   "cell_type": "code",
   "execution_count": null,
   "id": "7297dd91-37ff-4d6d-bbab-0f15433d17f6",
   "metadata": {},
   "outputs": [],
   "source": [
    "# Visualize missing values\n",
    "import missingno as msno\n",
    "fig = msno.matrix(df,color=(0,0.5,0.5))"
   ]
  },
  {
   "cell_type": "code",
   "execution_count": null,
   "id": "ec257f6e-01fa-4bdf-a31b-b2a3ca2215cb",
   "metadata": {},
   "outputs": [],
   "source": [
    "# Detect percentage of missing values\n",
    "df.isnull().sum()/len(df)*100"
   ]
  },
  {
   "cell_type": "markdown",
   "id": "f8ae927b-63d1-42ea-a5db-d64af63b9712",
   "metadata": {},
   "source": [
    "**Dealing with missing values**:\n",
    "\n",
    "There is a column that all of the rows are null so this col should be deleted. But we keep DOC_speciality column that has just 13 percent missing values. Because maybe fradulents are in rows that include missing data."
   ]
  },
  {
   "cell_type": "code",
   "execution_count": null,
   "id": "63419927-04bd-47ce-95e3-aefb0f400e51",
   "metadata": {},
   "outputs": [],
   "source": [
    "# Drop columns where the sum of null values is exactly 10505 which means they have 0 values.\n",
    "df = df.drop(columns=[col for col in df.columns if df[col].isnull().sum() == 10505])"
   ]
  },
  {
   "cell_type": "code",
   "execution_count": null,
   "id": "7943c83b-e263-4901-a384-59bc3d176bd9",
   "metadata": {},
   "outputs": [],
   "source": []
  },
  {
   "cell_type": "code",
   "execution_count": null,
   "id": "f8758292-e4e9-45c2-8faa-92aafbdc905d",
   "metadata": {},
   "outputs": [],
   "source": [
    "# Group by district then sum them"
   ]
  },
  {
   "cell_type": "code",
   "execution_count": null,
   "id": "d6ee9d1d-c0ef-424a-bf39-3915b2ffef55",
   "metadata": {},
   "outputs": [],
   "source": [
    "# Number of facilities per district"
   ]
  },
  {
   "cell_type": "code",
   "execution_count": null,
   "id": "82001d69-3f28-48ac-9844-6a64245e9fb0",
   "metadata": {},
   "outputs": [],
   "source": []
  }
 ],
 "metadata": {
  "kernelspec": {
   "display_name": "Python 3 (ipykernel)",
   "language": "python",
   "name": "python3"
  },
  "language_info": {
   "codemirror_mode": {
    "name": "ipython",
    "version": 3
   },
   "file_extension": ".py",
   "mimetype": "text/x-python",
   "name": "python",
   "nbconvert_exporter": "python",
   "pygments_lexer": "ipython3",
   "version": "3.11.7"
  }
 },
 "nbformat": 4,
 "nbformat_minor": 5
}
